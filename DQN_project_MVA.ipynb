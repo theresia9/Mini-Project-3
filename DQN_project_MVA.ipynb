{
 "cells": [
  {
   "cell_type": "markdown",
   "metadata": {},
   "source": [
    "**You may need to install [OpenCV](https://pypi.python.org/pypi/opencv-python) and [scikit-video](http://www.scikit-video.org/stable/).**"
   ]
  },
  {
   "cell_type": "code",
   "execution_count": 278,
   "metadata": {},
   "outputs": [],
   "source": [
    "import keras\n",
    "import numpy as np\n",
    "import io\n",
    "import base64\n",
    "from IPython.display import HTML\n",
    "import skvideo.io\n",
    "import cv2\n",
    "import json\n",
    "import random as rd\n",
    "from keras.models import Sequential,model_from_json\n",
    "from keras.layers.core import Dense\n",
    "from keras.optimizers import sgd\n",
    "from keras.layers import Conv2D, MaxPooling2D, Activation, AveragePooling2D,Reshape,BatchNormalization,Flatten,Dropout\n",
    "from collections import deque\n",
    "from keras.optimizers import sgd, Adam"
   ]
  },
  {
   "cell_type": "markdown",
   "metadata": {},
   "source": [
    "# MiniProject #3: Deep Reinforcement Learning"
   ]
  },
  {
   "cell_type": "markdown",
   "metadata": {},
   "source": [
    "__Notations__: $E_p$ is the expectation under probability $p$. Please justify each of your answer and widely comment your code."
   ]
  },
  {
   "cell_type": "markdown",
   "metadata": {},
   "source": [
    "# Context"
   ]
  },
  {
   "cell_type": "markdown",
   "metadata": {},
   "source": [
    "In a reinforcement learning algorithm, we modelize each step $t$ as an action $a_t$ obtained from a state $s_t$, i.e. $\\{(a_{t},s_{t})_{t\\leq T}\\}$ having the Markov property. We consider a discount factor $\\gamma \\in [0,1]$ that ensures convergence. The goal is to find among all the policies $\\pi$, one that maximizes the expected reward:\n",
    "\n",
    "\\begin{equation*}\n",
    "R(\\pi)=\\sum_{t\\leq T}E_{p^{\\pi}}[\\gamma^t r(s_{t},a_{t})] \\> ,\n",
    "\\end{equation*}\n",
    "\n",
    "where: \n",
    "\\begin{equation*}p^{\\pi}(a_{0},a_{1},s_{1},...,a_{T},s_{T})=p(a_{0})\\prod_{t=1}^{T}\\pi(a_{t}|s_{t})p(s_{t+1}|s_{t},a_{t}) \\> .\n",
    "\\end{equation*}\n",
    "\n",
    "We note the $Q$-function:\n",
    "\n",
    "\\begin{equation*}Q^\\pi(s,a)=E_{p^{\\pi}}[\\sum_{t\\leq T}\\gamma^{t}r(s_{t},a_{t})|s_{0}=s,a_{0}=a] \\> .\n",
    "\\end{equation*}\n",
    "\n",
    "Thus, the optimal Q function is:\n",
    "\\begin{equation*}\n",
    "Q^*(s,a)=\\max_{\\pi}Q^\\pi(s,a) \\> .\n",
    "\\end{equation*}\n",
    "\n",
    "In this project, we will apply the deep reinforcement learning techniques to a simple game: an agent will have to learn from scratch a policy that will permit it maximizing a reward."
   ]
  },
  {
   "cell_type": "markdown",
   "metadata": {},
   "source": [
    "## The environment, the agent and the game"
   ]
  },
  {
   "cell_type": "markdown",
   "metadata": {},
   "source": [
    "### The environment"
   ]
  },
  {
   "cell_type": "markdown",
   "metadata": {},
   "source": [
    "```Environment``` is an abstract class that represents the states, rewards, and actions to obtain the new state."
   ]
  },
  {
   "cell_type": "code",
   "execution_count": 279,
   "metadata": {},
   "outputs": [],
   "source": [
    "class Environment(object):\n",
    "    def __init__(self):\n",
    "        pass\n",
    "\n",
    "    def act(self, act):\n",
    "        \"\"\"\n",
    "        One can act on the environment and obtain its reaction:\n",
    "        - the new state\n",
    "        - the reward of the new state\n",
    "        - should we continue the game?\n",
    "\n",
    "        :return: state, reward, game_over\n",
    "        \"\"\"\n",
    "        pass\n",
    "\n",
    "\n",
    "    def reset(self):\n",
    "        \"\"\"\n",
    "        Reinitialize the environment to a random state and returns\n",
    "        the original state\n",
    "\n",
    "        :return: state\n",
    "        \"\"\"\n",
    "        pass\n",
    "    \n",
    "    def draw(self):\n",
    "        \"\"\"\n",
    "        Visualize in the console or graphically the current state\n",
    "        \"\"\"\n",
    "        pass"
   ]
  },
  {
   "cell_type": "markdown",
   "metadata": {},
   "source": [
    "The method ```act``` allows to act on the environment at a given state $s_t$ (stored internally), via action $a_t$. The method will return the new state $s_{t+1}$, the reward $r(s_{t},a_{t})$ and determines if $t\\leq T$ (*game_over*).\n",
    "\n",
    "The method ```reset``` simply reinitializes the environment to a random state $s_0$.\n",
    "\n",
    "The method ```draw``` displays the current state $s_t$ (this is useful to check the behavior of the Agent).\n",
    "\n",
    "We modelize $s_t$ as a tensor, while $a_t$ is an integer."
   ]
  },
  {
   "cell_type": "markdown",
   "metadata": {},
   "source": [
    "### The Agent"
   ]
  },
  {
   "cell_type": "markdown",
   "metadata": {},
   "source": [
    "The goal of the ```Agent``` is to interact with the ```Environment``` by proposing actions $a_t$ obtained from a given state $s_t$ to attempt to maximize its __reward__ $r(s_t,a_t)$. We propose the following abstract class:"
   ]
  },
  {
   "cell_type": "code",
   "execution_count": 280,
   "metadata": {},
   "outputs": [],
   "source": [
    "class Agent(object):\n",
    "    def __init__(self, epsilon=0.1, n_action=4):\n",
    "        self.epsilon = epsilon\n",
    "        self.n_action = n_action\n",
    "    \n",
    "    def set_epsilon(self,e):\n",
    "        self.epsilon = e\n",
    "\n",
    "    def act(self,s,train=True):\n",
    "        \"\"\" This function should return the next action to do:\n",
    "        an integer between 0 and 4 (not included) with a random exploration of epsilon\"\"\"\n",
    "        if train:\n",
    "            if np.random.rand() <= self.epsilon:\n",
    "                a = np.random.randint(0, self.n_action, size=1)[0]\n",
    "            else:\n",
    "                a = self.learned_act(s)\n",
    "        else: # in some cases, this can improve the performance.. remove it if poor performances\n",
    "            a = self.learned_act(s)\n",
    "\n",
    "        return a\n",
    "\n",
    "    def learned_act(self,s):\n",
    "        \"\"\" Act via the policy of the agent, from a given state s\n",
    "        it proposes an action a\"\"\"\n",
    "        pass\n",
    "\n",
    "    def reinforce(self, s, n_s, a, r, game_over_):\n",
    "        \"\"\" This function is the core of the learning algorithm. \n",
    "        It takes as an input the current state s_, the next state n_s_\n",
    "        the action a_ used to move from s_ to n_s_ and the reward r_.\n",
    "        \n",
    "        Its goal is to learn a policy.\n",
    "        \"\"\"\n",
    "        pass\n",
    "\n",
    "    def save(self):\n",
    "        \"\"\" This function returns basic stats if applicable: the\n",
    "        loss and/or the model\"\"\"\n",
    "        pass\n",
    "\n",
    "    def load(self):\n",
    "        \"\"\" This function allows to restore a model\"\"\"\n",
    "        pass"
   ]
  },
  {
   "cell_type": "markdown",
   "metadata": {},
   "source": [
    "***\n",
    "__Question 1__:\n",
    "Explain the function act. Why is ```epsilon``` essential?"
   ]
  },
  {
   "cell_type": "markdown",
   "metadata": {},
   "source": [
    "(you can use Markdown and Latex)\n",
    "\n",
    "Lets first explain the role of the act function. When we have a certain observation of a current state of an enviroment the fuction acts permits to the agent to take a certain action. \n",
    "\n",
    "Very often we face multiple  actions that can be taken from which we can randomely choose one of the actions. Then if the action chosen is prtty good we will have tendency to choose it again and again in the future even if it is not the best option and that we have better options but only because of a good past result and thereby basing our decision on past results may be disadvantegeous.\n",
    "\n",
    "Here is where the exploration stage comes to play. (Exploration being the process of finding more information about the environment).\n",
    "\n",
    "One way to get exploration is by introducting an epsilon term with which will be compared to the value:\n",
    "When the value is less then the epsilon term we will choose a random action\n",
    "When the value is greater than the epsilon term we will choose the max Q value.\n",
    "The latter is nothing else but the exploitation process and thus the essential role of the epsilon is that it allows us to find a way of improving policies while ensuring that we explore the environment while keeping the possibility to choose the one chosen by exploitaion when we consider that the agent has explored enough stategies.\n",
    "\n"
   ]
  },
  {
   "cell_type": "markdown",
   "metadata": {},
   "source": [
    "***\n",
    "### The Game"
   ]
  },
  {
   "cell_type": "markdown",
   "metadata": {},
   "source": [
    "The ```Agent``` and the ```Environment``` work in an interlaced way as in the following (take some time to understand this code as it is the core of the project)\n",
    "\n",
    "```python\n",
    "\n",
    "epoch = 300\n",
    "env = Environment()\n",
    "agent = Agent()\n",
    "\n",
    "\n",
    "# Number of won games\n",
    "score = 0\n",
    "loss = 0\n",
    "\n",
    "\n",
    "for e in range(epoch):\n",
    "    # At each epoch, we restart to a fresh game and get the initial state\n",
    "    state = env.reset()\n",
    "    # This assumes that the games will end\n",
    "    game_over = False\n",
    "\n",
    "    win = 0\n",
    "    lose = 0\n",
    "    \n",
    "    while not game_over:\n",
    "        # The agent performs an action\n",
    "        action = agent.act(state)\n",
    "\n",
    "        # Apply an action to the environment, get the next state, the reward\n",
    "        # and if the games end\n",
    "        prev_state = state\n",
    "        state, reward, game_over = env.act(action)\n",
    "\n",
    "        # Update the counters\n",
    "        if reward > 0:\n",
    "            win = win + reward\n",
    "        if reward < 0:\n",
    "            lose = lose -reward\n",
    "\n",
    "        # Apply the reinforcement strategy\n",
    "        loss = agent.reinforce(prev_state, state,  action, reward, game_over)\n",
    "\n",
    "    # Save as a mp4\n",
    "    if e % 10 == 0:\n",
    "        env.draw(e)\n",
    "\n",
    "    # Update stats\n",
    "    score += win-lose\n",
    "\n",
    "    print(\"Epoch {:03d}/{:03d} | Loss {:.4f} | Win/lose count {}/{} ({})\"\n",
    "          .format(e, epoch, loss, win, lose, win-lose))\n",
    "    agent.save()\n",
    "```"
   ]
  },
  {
   "cell_type": "markdown",
   "metadata": {},
   "source": [
    "# The game, *eat cheese*"
   ]
  },
  {
   "cell_type": "markdown",
   "metadata": {},
   "source": [
    "A rat runs on an island and tries to eat as much as possible. The island is subdivided into $N\\times N$ cells, in which there are cheese (+0.5) and poisonous cells (-1). The rat has a visibility of 2 cells (thus it can see $5^2$ cells). The rat is given a time $T$ to accumulate as much food as possible. It can perform 4 actions: going up, down, left, right. \n",
    "\n",
    "The goal is to code an agent to solve this task that will learn by trial and error. We propose the following environment:"
   ]
  },
  {
   "cell_type": "code",
   "execution_count": 281,
   "metadata": {},
   "outputs": [],
   "source": [
    "class Environment(object):\n",
    "    def __init__(self, grid_size=10, max_time=500, temperature=0.1):\n",
    "        grid_size = grid_size+4\n",
    "        self.grid_size = grid_size\n",
    "        self.max_time = max_time\n",
    "        self.temperature = temperature\n",
    "\n",
    "        #board on which one plays\n",
    "        self.board = np.zeros((grid_size,grid_size))\n",
    "        self.position = np.zeros((grid_size,grid_size))\n",
    "\n",
    "        # coordinate of the cat\n",
    "        self.x = 0\n",
    "        self.y = 1\n",
    "\n",
    "        # self time\n",
    "        self.t = 0\n",
    "\n",
    "        self.scale=16\n",
    "\n",
    "        self.to_draw = np.zeros((max_time+2, grid_size*self.scale, grid_size*self.scale, 3))\n",
    "\n",
    "\n",
    "    def draw(self,e):\n",
    "        skvideo.io.vwrite(str(e) + '.mp4', self.to_draw)\n",
    "\n",
    "    def get_frame(self,t):\n",
    "        b = np.zeros((self.grid_size,self.grid_size,3))+128\n",
    "        b[self.board>0,0] = 256\n",
    "        b[self.board < 0, 2] = 256\n",
    "        b[self.x,self.y,:]=256\n",
    "        b[-2:,:,:]=0\n",
    "        b[:,-2:,:]=0\n",
    "        b[:2,:,:]=0\n",
    "        b[:,:2,:]=0\n",
    "        \n",
    "        b =  cv2.resize(b, None, fx=self.scale, fy=self.scale, interpolation=cv2.INTER_NEAREST)\n",
    "\n",
    "        self.to_draw[t,:,:,:]=b\n",
    "\n",
    "\n",
    "    def act(self, action):\n",
    "        \"\"\"This function returns the new state, reward and decides if the\n",
    "        game ends.\"\"\"\n",
    "\n",
    "        self.get_frame(int(self.t))\n",
    "\n",
    "        self.position = np.zeros((self.grid_size, self.grid_size))\n",
    "\n",
    "        self.position[0:2,:]= -1\n",
    "        self.position[:,0:2] = -1\n",
    "        self.position[-2:, :] = -1\n",
    "        self.position[-2:, :] = -1\n",
    "\n",
    "        self.position[self.x, self.y] = 1\n",
    "        if action == 0:\n",
    "            if self.x == self.grid_size-3:\n",
    "                self.x = self.x-1\n",
    "            else:\n",
    "                self.x = self.x + 1\n",
    "        elif action == 1:\n",
    "            if self.x == 2:\n",
    "                self.x = self.x+1\n",
    "            else:\n",
    "                self.x = self.x-1\n",
    "        elif action == 2:\n",
    "            if self.y == self.grid_size - 3:\n",
    "                self.y = self.y - 1\n",
    "            else:\n",
    "                self.y = self.y + 1\n",
    "        elif action == 3:\n",
    "            if self.y == 2:\n",
    "                self.y = self.y + 1\n",
    "            else:\n",
    "                self.y = self.y - 1\n",
    "        else:\n",
    "            RuntimeError('Error: action not recognized')\n",
    "\n",
    "        self.t = self.t + 1\n",
    "        reward = self.board[self.x, self.y]\n",
    "        self.board[self.x, self.y] = 0\n",
    "        game_over = self.t > self.max_time\n",
    "        state = np.concatenate((self.board.reshape(self.grid_size, self.grid_size,1),\n",
    "                        self.position.reshape(self.grid_size, self.grid_size,1)),axis=2)\n",
    "        state = state[self.x-2:self.x+3,self.y-2:self.y+3,:]\n",
    "\n",
    "        return state, reward, game_over\n",
    "\n",
    "    def reset(self):\n",
    "        \"\"\"This function resets the game and returns the initial state\"\"\"\n",
    "\n",
    "        self.x = np.random.randint(3, self.grid_size-3, size=1)[0]\n",
    "        self.y = np.random.randint(3, self.grid_size-3, size=1)[0]\n",
    "\n",
    "\n",
    "        bonus = 0.5*np.random.binomial(1,self.temperature,size=self.grid_size**2)\n",
    "        bonus = bonus.reshape(self.grid_size,self.grid_size)\n",
    "\n",
    "        malus = -1.0*np.random.binomial(1,self.temperature,size=self.grid_size**2)\n",
    "        malus = malus.reshape(self.grid_size, self.grid_size)\n",
    "\n",
    "        self.to_draw = np.zeros((self.max_time+2, self.grid_size*self.scale, self.grid_size*self.scale, 3))\n",
    "\n",
    "\n",
    "        malus[bonus>0]=0\n",
    "\n",
    "        self.board = bonus + malus\n",
    "\n",
    "        self.position = np.zeros((self.grid_size, self.grid_size))\n",
    "        self.position[0:2,:]= -1\n",
    "        self.position[:,0:2] = -1\n",
    "        self.position[-2:, :] = -1\n",
    "        self.position[-2:, :] = -1\n",
    "        self.board[self.x,self.y] = 0\n",
    "        self.t = 0\n",
    "\n",
    "        state = np.concatenate((self.board.reshape(self.grid_size, self.grid_size,1),self.position.reshape(self.grid_size, self.grid_size,1)),axis=2)\n",
    "        state = state[self.x - 2:self.x + 3, self.y - 2:self.y + 3, :]\n",
    "        return state"
   ]
  },
  {
   "cell_type": "markdown",
   "metadata": {},
   "source": [
    "The following elements are important because they correspond to the hyper parameters for this project:"
   ]
  },
  {
   "cell_type": "code",
   "execution_count": 282,
   "metadata": {},
   "outputs": [],
   "source": [
    "# parameters\n",
    "size = 13\n",
    "T=200\n",
    "temperature=0.3\n",
    "epochs_train=20 # set small when debugging\n",
    "epochs_test=20 # set small when debugging\n",
    "\n",
    "# display videos\n",
    "def display_videos(name):\n",
    "    video = io.open(name, 'r+b').read()\n",
    "    encoded = base64.b64encode(video)\n",
    "    return '''<video alt=\"test\" controls>\n",
    "                <source src=\"data:video/mp4;base64,{0}\" type=\"video/mp4\" />\n",
    "             </video>'''.format(encoded.decode('ascii'))"
   ]
  },
  {
   "cell_type": "markdown",
   "metadata": {},
   "source": [
    "__Question 2__ Explain the use of the arrays ```position``` and ```board```."
   ]
  },
  {
   "cell_type": "markdown",
   "metadata": {},
   "source": [
    "At a certain time t, the position is the array including the position of the rat on the board. \n",
    "\n",
    "Each time the act function is called,the array will be updated as follow:\n",
    "\n",
    "0 all the positions where the rat has never been\n",
    "\n",
    "1 where the rat is or has already been\n",
    "\n",
    "-1 the forbidden position which is the borders\n",
    "\n",
    "Thus the position array updates the rat'position over time and give information about its playground.\n",
    "\n",
    "Now moving on to the board it is the array that represnts the board on which the rat moves around. It give us an idea of the possible rewards. \n",
    "\n",
    "Each cells is either empty or contains the cheese or the poison.These three cases represents the reward of each action taken and are assigned repectively the values 0, 0.5 and -1. \n"
   ]
  },
  {
   "cell_type": "markdown",
   "metadata": {},
   "source": [
    "## Random Agent"
   ]
  },
  {
   "cell_type": "markdown",
   "metadata": {},
   "source": [
    "***\n",
    "__Question 3__ Implement a random Agent (only ```learned_act``` needs to be implemented):"
   ]
  },
  {
   "cell_type": "code",
   "execution_count": 283,
   "metadata": {},
   "outputs": [],
   "source": [
    "class RandomAgent(Agent):\n",
    "    def __init__(self):\n",
    "        super(RandomAgent, self).__init__()\n",
    "        pass\n",
    "\n",
    "    def learned_act(self, s):\n",
    "        \n",
    "        return rd.randint(0,self.n_action)\n",
    "\n",
    "\n",
    "    "
   ]
  },
  {
   "cell_type": "markdown",
   "metadata": {},
   "source": [
    "***\n",
    "***\n",
    "__Question 4__ Visualize the game moves. You need to fill in the following function for the evaluation:"
   ]
  },
  {
   "cell_type": "code",
   "execution_count": 284,
   "metadata": {},
   "outputs": [],
   "source": [
    "def test(agent,env,epochs,prefix=''):\n",
    "    # Number of won games\n",
    "    score = 0\n",
    "        \n",
    "    for e in range(epochs):\n",
    "        \n",
    "        # At each epoch, we restart to a fresh game and get the initial state\n",
    "        state = env.reset()\n",
    "        # This assumes that the games will end\n",
    "        game_over = False\n",
    "\n",
    "        win = 0\n",
    "        lose = 0\n",
    "\n",
    "        while not game_over:\n",
    "            # The agent performs an action\n",
    "            action = agent.learned_act(state)\n",
    "\n",
    "            # Apply an action to the environment, get the next state, the reward\n",
    "            # and if the games end\n",
    "            prev_state = state\n",
    "            state, reward, game_over = env.act(action)\n",
    "\n",
    "            # Update the counters\n",
    "            if reward > 0:\n",
    "                win = win + reward\n",
    "            if reward < 0:\n",
    "                lose = lose -reward\n",
    "\n",
    "        # Save as a mp4\n",
    "        env.draw(prefix+str(e))\n",
    "\n",
    "        # Update stats\n",
    "        score = score + win-lose\n",
    "\n",
    "        print(\"Win/lose count {}/{}. Average score ({})\"\n",
    "              .format(win, lose, score/(1+e)))\n",
    "    print('Final score: '+str(score/epochs))"
   ]
  },
  {
   "cell_type": "code",
   "execution_count": 285,
   "metadata": {},
   "outputs": [
    {
     "name": "stdout",
     "output_type": "stream",
     "text": [
      "Win/lose count 8.0/10.0. Average score (-2.0)\n",
      "Win/lose count 10.0/12.0. Average score (-2.0)\n",
      "Win/lose count 4.5/2.0. Average score (-0.5)\n",
      "Win/lose count 6.0/15.0. Average score (-2.625)\n",
      "Win/lose count 11.5/16.0. Average score (-3.0)\n",
      "Win/lose count 10.5/16.0. Average score (-3.4166666666666665)\n",
      "Win/lose count 9.5/13.0. Average score (-3.4285714285714284)\n",
      "Win/lose count 6.0/11.0. Average score (-3.625)\n",
      "Win/lose count 8.5/18.0. Average score (-4.277777777777778)\n",
      "Win/lose count 11.0/12.0. Average score (-3.95)\n",
      "Win/lose count 7.0/10.0. Average score (-3.8636363636363638)\n",
      "Win/lose count 6.5/12.0. Average score (-4.0)\n",
      "Win/lose count 7.0/19.0. Average score (-4.615384615384615)\n",
      "Win/lose count 10.5/14.0. Average score (-4.535714285714286)\n",
      "Win/lose count 10.5/10.0. Average score (-4.2)\n",
      "Win/lose count 8.0/20.0. Average score (-4.6875)\n",
      "Win/lose count 14.0/10.0. Average score (-4.176470588235294)\n",
      "Win/lose count 7.5/21.0. Average score (-4.694444444444445)\n",
      "Win/lose count 7.5/9.0. Average score (-4.526315789473684)\n",
      "Win/lose count 9.0/9.0. Average score (-4.3)\n",
      "Final score: -4.3\n"
     ]
    },
    {
     "data": {
      "text/html": [
       "<video alt=\"test\" controls>\n",
       "                <source src=\"data:video/mp4;base64,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\" type=\"video/mp4\" />\n",
       "             </video>"
      ],
      "text/plain": [
       "<IPython.core.display.HTML object>"
      ]
     },
     "execution_count": 285,
     "metadata": {},
     "output_type": "execute_result"
    }
   ],
   "source": [
    "# Initialize the game\n",
    "env = Environment(grid_size=size, max_time=T,temperature=temperature)\n",
    "\n",
    "# Initialize the agent!\n",
    "agent = RandomAgent()\n",
    "\n",
    "test(agent,env,epochs_test,prefix='random')\n",
    "HTML(display_videos('random0.mp4'))"
   ]
  },
  {
   "cell_type": "markdown",
   "metadata": {},
   "source": [
    "***\n",
    "## DQN"
   ]
  },
  {
   "cell_type": "markdown",
   "metadata": {},
   "source": [
    "Let us assume here that $T=\\infty$.\n",
    "\n",
    "***\n",
    "__Question 5__ Let $\\pi$ be a policy, show that:\n",
    "\n",
    "\\begin{equation*}\n",
    "Q^{\\pi}(s,a)=E_{(s',a')\\sim p(.|s,a)}[r(s,a)+\\gamma Q^{\\pi}(s',a')]\n",
    "\\end{equation*}\n",
    "\n",
    "Then, show that for the optimal policy $\\pi^*$ (we assume its existence), the following holds: \n",
    "\n",
    "\\begin{equation*}\n",
    "Q^{*}(s,a)=E_{s'\\sim \\pi^*(.|s,a)}[r(s,a)+\\gamma\\max_{a'}Q^{*}(s',a')].\n",
    "\\end{equation*}\n",
    "Finally, deduce that a plausible objective is:\n",
    "\n",
    "\\begin{equation*}\n",
    "\\mathcal{L}(\\theta)=E_{s' \\sim \\pi^*(.|s,a)}\\Vert r+\\gamma\\max\\max_{a'}Q(s',a',\\theta)-Q(s,a,\\theta)\\Vert^{2}.\n",
    "\\end{equation*}\n",
    "\n",
    "\n"
   ]
  },
  {
   "cell_type": "markdown",
   "metadata": {},
   "source": [
    "Answer:\n",
    "\n",
    "\n",
    "$$\n",
    "\\begin{equation*}\n",
    "Q^\\pi(s,a)=E_{p^{\\pi}}[\\sum_{t=0}^{\\infty}\\gamma^{t}r(s_{t},a_{t})|s_{0}=s,a_{0}=a]\\end{equation*}$$\n",
    "$$\\begin{equation*} Q^\\pi(s,a)         =E_{p^{\\pi}}[r(s_0,a_0) + \\gamma\\sum_{t=1}^{\\infty}\\gamma^{t-1}r(s_{t},a_{t})|s_{0}=s,a_{0}=a]\\end{equation*}$$\n",
    "$$\\begin{equation*}    Q^\\pi(s,a)      =r(s,a) + \\gamma E_{p^{\\pi}}[\\sum_{t=0}^{\\infty}\\gamma^{t}r(s_{t+1},a_{t+1})|s_{0}=s,a_{0}=a]\\end{equation*}$$\n",
    "  $$\\begin{equation*}  Q^\\pi(s,a)      =r(s,a) + \\gamma E_{(s',a')\\sim p(.|s,a)}\\left(E_{p^{\\pi}}[\\sum_{t=0}^{\\infty}\\gamma^{t}r(s_{t},a_{t})|s_{0}=s',a_{0}=a']\\right)\\end{equation*}$$\n",
    "  $$\\begin{equation*}  Q^\\pi(s,a)      =E_{(s',a')\\sim p(.|s,a)}\\left(r(s,a) + \\gamma E_{p^{\\pi}}[\\sum_{t=0}^{\\infty}\\gamma^{t}r(s_{t},a_{t})|s_{0}=s',a_{0}=a']\\right)\\end{equation*}$$\n",
    " $$\\begin{equation*}  Q^\\pi(s,a)       =E_{(s',a')\\sim p(.|s,a)}\\left(r(s,a) + \\gamma Q^{\\pi}(s',a') \\right)\n",
    "\\end{equation*}$$\n",
    "\n",
    "\n",
    "2)Assuming that the optimal policy $\\pi^*$ exists, the optimal Q function is defined as:\n",
    "\n",
    "$$\\begin{equation*}\n",
    "Q^*(s,a)=\\max_{\\pi}Q^\\pi(s,a) ; \n",
    "\\end{equation*}$$$$\\begin{equation*}\n",
    "Q^*(s,a)= \\max_{\\pi} E_{(s',a')\\sim p(.|s,a)}[r(s,a)+\\gamma Q^{\\pi}(s',a')] ; \n",
    "\\end{equation*}$$$$\\begin{equation*}\n",
    "Q^*(s,a)= E_{s'\\sim \\pi^*(.|s,a)}[r(s,a)+\\gamma Q^{\\pi^*}(s',a')] ; \n",
    "\\end{equation*}$$$$\\begin{equation*}\n",
    "Q^*(s,a)= E_{s'\\sim \\pi^*(.|s,a)}[r(s,a)+\\gamma\\max_{a'}Q^{*}(s',a')].\n",
    "\\end{equation*}$$\n",
    "\n",
    "3(A plausible objective should minimize the loss function defined as:\n",
    "$$\\mathcal{L}(\\theta) = E_{s' \\sim \\pi^*(.|s,a)}( ( Q^* (s,a,\\theta ) - Q(s,a,\\theta)) ^2) \n",
    "$$$$\\mathcal{L}(\\theta) =  E_{s' \\sim \\pi^*(.|s,a)} ( ( r(s,a)+\\gamma\\max_{a'}Q^{*}(s',a', \\theta) - Q(s,a,\\theta)) ^2) $$$$\\mathcal{L}(\\theta) = E_{s' \\sim \\pi^*(.|s,a)}\\Vert r+\\gamma\\max\\max_{a'}Q(s',a',\\theta)-Q(s,a,\\theta)\\Vert^{2}.$$\n"
   ]
  },
  {
   "cell_type": "markdown",
   "metadata": {},
   "source": [
    "***\n",
    "The DQN-learning algorithm relies on these derivations to train the parameters $\\theta$ of a Deep Neural Network:\n",
    "\n",
    "1. At the state $s_t$, select the action $a_t$ with best reward using $Q_t$ and store the results;\n",
    "\n",
    "2. Obtain the new state $s_{t+1}$ from the environment $p$;\n",
    "\n",
    "3. Store $(s_t,a_t,s_{t+1})$;\n",
    "\n",
    "4. Obtain $Q_{t+1}$ by minimizing  $\\mathcal{L}$ from a recovered batch from the previously stored results.\n",
    "\n",
    "***\n",
    "__Question 6__ Implement the class ```Memory``` that stores moves (in a replay buffer) via ```remember``` and provides a ```random_access``` to these. Specify a maximum memory size to avoid side effects. You can for example use a ```list()``` and set by default ```max_memory=100```."
   ]
  },
  {
   "cell_type": "code",
   "execution_count": 286,
   "metadata": {},
   "outputs": [],
   "source": [
    "class Memory(object):\n",
    "    def __init__(self, max_memory=100):\n",
    "        self.max_memory = max_memory\n",
    "        self.memory = deque(maxlen=self.max_memory)        \n",
    "\n",
    "    def remember(self, m):\n",
    "        self.memory.append(m)\n",
    "\n",
    "    def random_access(self):\n",
    "        i = rd.randint(0,len(self.memory)-1)\n",
    "        return self.memory[i]"
   ]
  },
  {
   "cell_type": "markdown",
   "metadata": {},
   "source": [
    "***\n",
    "The pipeline we will use for training is given below:"
   ]
  },
  {
   "cell_type": "code",
   "execution_count": 287,
   "metadata": {},
   "outputs": [],
   "source": [
    "def train(agent,env,epoch,prefix=''):\n",
    "    # Number of won games\n",
    "    score = 0\n",
    "    loss = 0\n",
    "\n",
    "    for e in range(epoch):\n",
    "        # At each epoch, we restart to a fresh game and get the initial state\n",
    "        state = env.reset()\n",
    "        # This assumes that the games will terminate\n",
    "        game_over = False\n",
    "\n",
    "        win = 0\n",
    "        lose = 0\n",
    "\n",
    "        while not game_over:\n",
    "            # The agent performs an action\n",
    "            action = agent.act(state)\n",
    "\n",
    "            # Apply an action to the environment, get the next state, the reward\n",
    "            # and if the games end\n",
    "            prev_state = state\n",
    "            state, reward, game_over = env.act(action)\n",
    "\n",
    "            # Update the counters\n",
    "            if reward > 0:\n",
    "                win = win + reward\n",
    "            if reward < 0:\n",
    "                lose = lose -reward\n",
    "\n",
    "            # Apply the reinforcement strategy\n",
    "            loss = agent.reinforce(prev_state, state,  action, reward, game_over)\n",
    "\n",
    "        # Save as a mp4\n",
    "        if e % 10 == 0:\n",
    "            env.draw(prefix+str(e))\n",
    "\n",
    "        # Update stats\n",
    "        score += win-lose\n",
    "\n",
    "        print(\"Epoch {:03d}/{:03d} | Loss {:.4f} | Win/lose count {}/{} ({})\"\n",
    "              .format(e, epoch, loss, win, lose, win-lose))\n",
    "        agent.save(name_weights=prefix+'model.h5',name_model=prefix+'model.json')"
   ]
  },
  {
   "cell_type": "markdown",
   "metadata": {},
   "source": [
    "***\n",
    "__Question 7__ Implement the DQN training algorithm using a cascade of fully connected layers. You can use different learning rate, batch size or memory size parameters. In particular, the loss might oscillate while the player will start to win the games. You have to find a good criterium."
   ]
  },
  {
   "cell_type": "code",
   "execution_count": 288,
   "metadata": {},
   "outputs": [],
   "source": [
    "class DQN(Agent):\n",
    "    def __init__(self, grid_size,  epsilon = 0.1, memory_size=100, batch_size = 16,n_state=2):\n",
    "        super(DQN, self).__init__(epsilon = epsilon)\n",
    "\n",
    "        # Discount for Q learning\n",
    "        self.discount = 0.99\n",
    "        \n",
    "        self.grid_size = grid_size\n",
    "        \n",
    "        # number of state\n",
    "        self.n_state = n_state\n",
    "\n",
    "        # Memory\n",
    "        self.memory = Memory(memory_size)\n",
    "        \n",
    "        # Batch size when learning\n",
    "        self.batch_size = batch_size\n",
    "\n",
    "    def learned_act(self, s):\n",
    "        predict_q = (self.model.predict(s[None,:]))[0]\n",
    "        top_act = np.argmax(predict_q)\n",
    "        return top_act\n",
    "\n",
    "    def reinforce(self, s_, n_s_, a_, r_, game_over_):\n",
    "        # Two steps: first memorize the states, second learn from the pool\n",
    "        \n",
    "        self.memory.remember([s_, n_s_, a_, r_, game_over_])\n",
    "        \n",
    "        input_states = np.zeros((self.batch_size, 5,5,self.n_state))\n",
    "        target_q = np.zeros((self.batch_size, 4))\n",
    "        \n",
    "        for i in range(self.batch_size):\n",
    "            \n",
    "            s, n_s, a, r, game_over = self.memory.random_access()\n",
    "            target_q[i] = self.model.predict(s[None,:])\n",
    "            predict_q = self.model.predict(n_s[None,:])[0]\n",
    "\n",
    "            if game_over:\n",
    "                \n",
    "                target_q[i][a] = r\n",
    "                \n",
    "            else:\n",
    "                \n",
    "                target_q[i][a] = r + self.discount*max(predict_q)\n",
    "\n",
    "            input_states[i,:] = s \n",
    "        # HINT: Clip the target to avoid exploiding gradients.. -- clipping is a bit tighter\n",
    "        target_q = np.clip(target_q, -3, 3)\n",
    "\n",
    "        l = self.model.train_on_batch(input_states, target_q)\n",
    "\n",
    "        return l\n",
    "                \n",
    "\n",
    "    def save(self,name_weights='model.h5',name_model='model.json'):\n",
    "        self.model.save_weights(name_weights, overwrite=True)\n",
    "        with open(name_model, \"w\") as outfile:\n",
    "            json.dump(self.model.to_json(), outfile)\n",
    "            \n",
    "    def load(self,name_weights='model.h5',name_model='model.json'):\n",
    "        with open(name_model, \"r\") as jfile:\n",
    "            model = model_from_json(json.load(jfile))\n",
    "        model.load_weights(name_weights)\n",
    "        model.compile(\"sgd\", \"mse\")\n",
    "        self.model = model\n",
    "\n",
    "            \n",
    "\n",
    "class DQN_FC(DQN):\n",
    "    def __init__(self, lr=0.1,  *args, **kwargs):\n",
    "        super(DQN_FC, self).__init__(*args,**kwargs)\n",
    "        \n",
    "        # NN Model\n",
    "        \n",
    "        \n",
    "        model = Sequential()\n",
    "        model.add(Reshape((50,), input_shape=(5,5,self.n_state)))\n",
    "        model.add(Dense(128, input_dim=50, activation='relu'))\n",
    "        model.add(Dense(32, activation='relu'))\n",
    "        model.add(Dense(4, activation='linear'))\n",
    "        \n",
    "        model.compile(sgd(lr=lr, decay=1e-4, momentum=0.0), \"mse\")\n",
    "        model.compile(loss='mse', optimizer=Adam(lr=lr))\n",
    "        self.model = model\n",
    "        \n",
    "        "
   ]
  },
  {
   "cell_type": "code",
   "execution_count": 289,
   "metadata": {},
   "outputs": [
    {
     "name": "stdout",
     "output_type": "stream",
     "text": [
      "Epoch 000/020 | Loss 0.0168 | Win/lose count 5.0/8.0 (-3.0)\n",
      "Epoch 001/020 | Loss 0.0062 | Win/lose count 6.5/7.0 (-0.5)\n",
      "Epoch 002/020 | Loss 0.1123 | Win/lose count 8.0/7.0 (1.0)\n",
      "Epoch 003/020 | Loss 0.0103 | Win/lose count 17.0/18.0 (-1.0)\n",
      "Epoch 004/020 | Loss 0.0125 | Win/lose count 18.0/18.0 (0.0)\n",
      "Epoch 005/020 | Loss 0.0301 | Win/lose count 9.5/6.0 (3.5)\n",
      "Epoch 006/020 | Loss 0.0286 | Win/lose count 12.0/15.0 (-3.0)\n",
      "Epoch 007/020 | Loss 0.0239 | Win/lose count 11.5/11.0 (0.5)\n",
      "Epoch 008/020 | Loss 0.0274 | Win/lose count 8.0/13.0 (-5.0)\n",
      "Epoch 009/020 | Loss 0.0291 | Win/lose count 13.5/14.0 (-0.5)\n",
      "Epoch 010/020 | Loss 0.0046 | Win/lose count 12.0/16.0 (-4.0)\n",
      "Epoch 011/020 | Loss 0.0154 | Win/lose count 9.0/17.0 (-8.0)\n",
      "Epoch 012/020 | Loss 0.0132 | Win/lose count 8.5/10.0 (-1.5)\n",
      "Epoch 013/020 | Loss 0.0228 | Win/lose count 8.0/8.0 (0.0)\n",
      "Epoch 014/020 | Loss 0.0120 | Win/lose count 14.5/9.0 (5.5)\n",
      "Epoch 015/020 | Loss 0.0334 | Win/lose count 13.0/26.0 (-13.0)\n",
      "Epoch 016/020 | Loss 0.0295 | Win/lose count 10.5/21.0 (-10.5)\n",
      "Epoch 017/020 | Loss 0.0188 | Win/lose count 12.0/17.0 (-5.0)\n",
      "Epoch 018/020 | Loss 0.0084 | Win/lose count 9.0/21.0 (-12.0)\n",
      "Epoch 019/020 | Loss 0.0250 | Win/lose count 10.5/28.0 (-17.5)\n"
     ]
    },
    {
     "data": {
      "text/html": [
       "<video alt=\"test\" controls>\n",
       "                <source src=\"data:video/mp4;base64,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\" type=\"video/mp4\" />\n",
       "             </video>"
      ],
      "text/plain": [
       "<IPython.core.display.HTML object>"
      ]
     },
     "execution_count": 289,
     "metadata": {},
     "output_type": "execute_result"
    }
   ],
   "source": [
    "env = Environment(grid_size=size, max_time=T, temperature=0.3)\n",
    "agent = DQN_FC(lr=0.1, grid_size=size, epsilon = 0.1, memory_size=2000, batch_size = 32)\n",
    "train(agent, env, epochs_train, prefix='fc_train')\n",
    "HTML(display_videos('fc_train0.mp4'))"
   ]
  },
  {
   "cell_type": "markdown",
   "metadata": {},
   "source": [
    "***\n",
    "***\n",
    "__Question 8__ Implement the DQN training algorithm using a CNN (for example, 2 convolutional layers and one final fully connected layer)."
   ]
  },
  {
   "cell_type": "code",
   "execution_count": 290,
   "metadata": {},
   "outputs": [],
   "source": [
    "class DQN_CNN(DQN):\n",
    "    def __init__(self, *args,lr=0.1,**kwargs):\n",
    "        super(DQN_CNN, self).__init__(*args,**kwargs)\n",
    "         \n",
    "        model = Sequential()\n",
    "        model.add(Conv2D(32, kernel_size=(2, 2),activation='relu',input_shape=(5,5,self.n_state)))\n",
    "        model.add(Conv2D(32, (2, 2), activation='relu'))\n",
    "        model.add(Dropout(rate=0.1))\n",
    "        model.add(Flatten())\n",
    "        model.add(Dense(4, activation='linear'))\n",
    "        \n",
    "        model.compile(sgd(lr=lr, decay=1e-4, momentum=0.0), \"mse\")\n",
    "        self.model = model\n",
    "        \n",
    "        \n"
   ]
  },
  {
   "cell_type": "code",
   "execution_count": 291,
   "metadata": {},
   "outputs": [
    {
     "name": "stdout",
     "output_type": "stream",
     "text": [
      "Epoch 000/020 | Loss 0.0035 | Win/lose count 2.5/4.0 (-1.5)\n",
      "Epoch 001/020 | Loss 0.0046 | Win/lose count 3.5/3.0 (0.5)\n",
      "Epoch 002/020 | Loss 0.0113 | Win/lose count 6.0/3.0 (3.0)\n",
      "Epoch 003/020 | Loss 0.0110 | Win/lose count 6.0/1.0 (5.0)\n",
      "Epoch 004/020 | Loss 0.0032 | Win/lose count 4.0/4.0 (0.0)\n",
      "Epoch 005/020 | Loss 0.0022 | Win/lose count 1.5/3.0 (-1.5)\n",
      "Epoch 006/020 | Loss 0.0129 | Win/lose count 7.5/4.0 (3.5)\n",
      "Epoch 007/020 | Loss 0.0051 | Win/lose count 0.5/1.0 (-0.5)\n",
      "Epoch 008/020 | Loss 0.0241 | Win/lose count 5.0/0 (5.0)\n",
      "Epoch 009/020 | Loss 0.0062 | Win/lose count 2.0/3.0 (-1.0)\n",
      "Epoch 010/020 | Loss 0.0046 | Win/lose count 3.0/2.0 (1.0)\n",
      "Epoch 011/020 | Loss 0.0153 | Win/lose count 4.5/3.0 (1.5)\n",
      "Epoch 012/020 | Loss 0.0058 | Win/lose count 3.0/1.0 (2.0)\n",
      "Epoch 013/020 | Loss 0.0052 | Win/lose count 2.5/1.0 (1.5)\n",
      "Epoch 014/020 | Loss 0.0171 | Win/lose count 6.5/2.0 (4.5)\n",
      "Epoch 015/020 | Loss 0.0079 | Win/lose count 6.0/1.0 (5.0)\n",
      "Epoch 016/020 | Loss 0.0069 | Win/lose count 4.5/0 (4.5)\n",
      "Epoch 017/020 | Loss 0.0051 | Win/lose count 1.0/0 (1.0)\n",
      "Epoch 018/020 | Loss 0.0069 | Win/lose count 10.0/4.0 (6.0)\n",
      "Epoch 019/020 | Loss 0.0124 | Win/lose count 2.5/5.0 (-2.5)\n"
     ]
    },
    {
     "data": {
      "text/html": [
       "<video alt=\"test\" controls>\n",
       "                <source src=\"data:video/mp4;base64,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\" type=\"video/mp4\" />\n",
       "             </video>"
      ],
      "text/plain": [
       "<IPython.core.display.HTML object>"
      ]
     },
     "execution_count": 291,
     "metadata": {},
     "output_type": "execute_result"
    }
   ],
   "source": [
    "env = Environment(grid_size=size, max_time=T, temperature=0.3)\n",
    "agent = DQN_CNN(lr=.1, grid_size = size, epsilon = 0.1, memory_size=2000, batch_size = 32)\n",
    "train(agent,env,epochs_train,prefix='cnn_train')\n",
    "HTML(display_videos('cnn_train0.mp4'))"
   ]
  },
  {
   "cell_type": "markdown",
   "metadata": {},
   "source": [
    "***\n",
    "***\n",
    "__Question 9__ Test both algorithms and compare their performances. Which issue(s) do you observe? Observe also different behaviors by changing the temperature."
   ]
  },
  {
   "cell_type": "code",
   "execution_count": 292,
   "metadata": {},
   "outputs": [
    {
     "name": "stdout",
     "output_type": "stream",
     "text": [
      "\n",
      "Test of the CNN\n",
      "Win/lose count 2.0/0. Average score (2.0)\n",
      "Win/lose count 2.0/0. Average score (2.0)\n",
      "Win/lose count 1.0/0. Average score (1.6666666666666667)\n",
      "Win/lose count 5.0/0. Average score (2.5)\n",
      "Win/lose count 10.0/0. Average score (4.0)\n",
      "Win/lose count 2.5/0. Average score (3.75)\n",
      "Win/lose count 4.5/0. Average score (3.857142857142857)\n",
      "Win/lose count 9.5/1.0. Average score (4.4375)\n",
      "Win/lose count 0.5/0. Average score (4.0)\n",
      "Win/lose count 4.5/0. Average score (4.05)\n",
      "Win/lose count 4.0/0. Average score (4.045454545454546)\n",
      "Win/lose count 2.0/0. Average score (3.875)\n",
      "Win/lose count 1.5/0. Average score (3.6923076923076925)\n",
      "Win/lose count 4.0/0. Average score (3.7142857142857144)\n",
      "Win/lose count 2.5/0. Average score (3.6333333333333333)\n",
      "Win/lose count 3.0/0. Average score (3.59375)\n",
      "Win/lose count 5.5/0. Average score (3.7058823529411766)\n",
      "Win/lose count 1.5/0. Average score (3.5833333333333335)\n",
      "Win/lose count 2.5/0. Average score (3.526315789473684)\n",
      "Win/lose count 0.5/0. Average score (3.375)\n",
      "Final score: 3.375\n",
      "\n",
      "Test of the FC\n",
      "Win/lose count 1.5/4.0. Average score (-2.5)\n",
      "Win/lose count 1.5/1.0. Average score (-1.0)\n",
      "Win/lose count 1.5/0. Average score (-0.16666666666666666)\n",
      "Win/lose count 1.5/1.0. Average score (0.0)\n",
      "Win/lose count 1.0/0. Average score (0.2)\n",
      "Win/lose count 1.0/3.0. Average score (-0.16666666666666666)\n",
      "Win/lose count 1.0/1.0. Average score (-0.14285714285714285)\n",
      "Win/lose count 2.5/2.0. Average score (-0.0625)\n",
      "Win/lose count 1.0/2.0. Average score (-0.16666666666666666)\n",
      "Win/lose count 0/0. Average score (-0.15)\n",
      "Win/lose count 1.0/1.0. Average score (-0.13636363636363635)\n",
      "Win/lose count 0.5/0. Average score (-0.08333333333333333)\n",
      "Win/lose count 1.5/2.0. Average score (-0.11538461538461539)\n",
      "Win/lose count 0.5/0. Average score (-0.07142857142857142)\n",
      "Win/lose count 1.5/0. Average score (0.03333333333333333)\n",
      "Win/lose count 1.5/1.0. Average score (0.0625)\n",
      "Win/lose count 1.0/0. Average score (0.11764705882352941)\n",
      "Win/lose count 0/0. Average score (0.1111111111111111)\n",
      "Win/lose count 0/0. Average score (0.10526315789473684)\n",
      "Win/lose count 0/0. Average score (0.1)\n",
      "Final score: 0.1\n"
     ]
    }
   ],
   "source": [
    "env = Environment(grid_size=size, max_time=T,temperature=0.3)\n",
    "agent_cnn = DQN_CNN(lr=.1, grid_size=size, epsilon = 0.1, memory_size=2000, batch_size = 32)\n",
    "agent_cnn.load(name_weights='cnn_trainmodel.h5',name_model='cnn_trainmodel.json')\n",
    "\n",
    "agent_fc = DQN_FC(lr=.1, grid_size=size, epsilon = 0.1, memory_size=2000, batch_size = 32)\n",
    "agent_fc.load(name_weights='fc_trainmodel.h5',name_model='fc_trainmodel.json')\n",
    "print('\\nTest of the CNN')\n",
    "test(agent_cnn,env,epochs_test,prefix='cnn_test')\n",
    "print('\\nTest of the FC')\n",
    "test(agent_fc,env,epochs_test,prefix='fc_test')"
   ]
  },
  {
   "cell_type": "code",
   "execution_count": 298,
   "metadata": {},
   "outputs": [
    {
     "data": {
      "text/html": [
       "<video alt=\"test\" controls>\n",
       "                <source src=\"data:video/mp4;base64,AAAAIGZ0eXBpc29tAAACAGlzb21pc28yYXZjMW1wNDEAAAAIZnJlZQAAFuVtZGF0AAACnwYF//+b3EXpvebZSLeWLNgg2SPu73gyNjQgLSBjb3JlIDE1MiAtIEguMjY0L01QRUctNCBBVkMgY29kZWMgLSBDb3B5bGVmdCAyMDAzLTIwMTcgLSBodHRwOi8vd3d3LnZpZGVvbGFuLm9yZy94MjY0Lmh0bWwgLSBvcHRpb25zOiBjYWJhYz0xIHJlZj0zIGRlYmxvY2s9MTowOjAgYW5hbHlzZT0weDE6MHgxMTEgbWU9aGV4IHN1Ym1lPTcgcHN5PTEgcHN5X3JkPTEuMDA6MC4wMCBtaXhlZF9yZWY9MSBtZV9yYW5nZT0xNiBjaHJvbWFfbWU9MSB0cmVsbGlzPTEgOHg4ZGN0PTAgY3FtPTAgZGVhZHpvbmU9MjEsMTEgZmFzdF9wc2tpcD0xIGNocm9tYV9xcF9vZmZzZXQ9NCB0aHJlYWRzPTYgbG9va2FoZWFkX3RocmVhZHM9MSBzbGljZWRfdGhyZWFkcz0wIG5yPTAgZGVjaW1hdGU9MSBpbnRlcmxhY2VkPTAgYmx1cmF5X2NvbXBhdD0wIGNvbnN0cmFpbmVkX2ludHJhPTAgYmZyYW1lcz0zIGJfcHlyYW1pZD0yIGJfYWRhcHQ9MSBiX2JpYXM9MCBkaXJlY3Q9MSB3ZWlnaHRiPTEgb3Blbl9nb3A9MCB3ZWlnaHRwPTIga2V5aW50PTI1MCBrZXlpbnRfbWluPTI1IHNjZW5lY3V0PTQwIGludHJhX3JlZnJlc2g9MCByY19sb29rYWhlYWQ9NDAgcmM9Y3JmIG1idHJlZT0xIGNyZj0yMy4wIHFjb21wPTAuNjAgcXBtaW49MCBxcG1heD02OSBxcHN0ZXA9NCBpcF9yYXRpbz0xLjQwIGFxPTE6MS4wMACAAAADP2WIhAA3//72h/gU2VgT/lm//Q1/3I/bj6z9cWMhBN9aryHowBkvtR/m/6xRbOmelAf34AiUAHNuGcKR2Sd444SUmEXqj4FLgJ9+BTSZEXAQssn+JS2SOdbo4ZRTGIUvhaXvqdRnou+FbtBqI7VsxQGpkVrBNK2aFKZ6bECV/axOid5zEvRODUTXEtFnZn4JUG3eUWi1nQCFuL1i+qNRZHBmuA/hkHRxE1lHI5VluRGpVYQ0qMmAbfev7Ik0070/XknU9VGq8RxVyJSIezZHUsOxrSeXZrxLg3Rng17Rn7awOKti2GLUc8EfXJVseS7xgOJZe6Cgf2D1m1cmVFzSuQzdsVGHU8zLCsf1jCO5MHwgDamffL/jfEYl3GW/dTkWulZLOkkCJFqMSFnDQ/UNqlAeNflwQGTG1ZXzpiVBVUHieqyFEnwhCx1Pz6qdimoXte76hhjuZ+J5be01GjZEs+9FMka0TB5348nGwRhIHFPARnOd9hQexw2jh0cIwT9amq8xgK4PdUajSaSnFhp/fS4xWvZLgQ3/mRMFYh1V+D3SBTu0v8e3thUMCUQYt5ctLXBZm8IfEiXpkPvWtYh3+COzzEI/GbigBx7APYDOxQR4O7eg8m0pKL4rKx8cC4fMVyT9jDxZdpnScYmTpDD/LrIOAsODOswfFNpSU5btG2IRrXb+ZaN+2CF8AH/NN43EXHSK+2S51mpt2jQa6WUxdf2/wlz0FjysXCFuHr+b9rqFPoyWrynhLAPbw5tymbxG1DB/QA4o3MxdF1e2/wyrpMSiE59Nh59fDI9V0mQTeUgnI9GAcH82B1GSWVgdZlPLBbYjCxVuu2E9fQVgbyr0GCkcMkG/AeQ2iacpYW9ICiJhrrX4kFift/X/GLsWoX8wAZnCe35Q/k+eXGOT38FQtJTEdeBpKaVjLb68R6yobAEzGREm0ccALYcJeLotqzoFwu3nz/yDQedQOquxzoBPZkvRnhbQeMJRr+aNRg5c/0TJrs7uWxhh3uH5QJN8rONFrLQy3fIs2CfOrFthgM4AmCvQSZNSo0WvrhnLJ4QZviDnyP/lVX4pxwwKtNGZFohFrkBjAgAVqBqpHzHSgAABGwAAACBBmiJsQ3/+p4QANj6w3Msrxhn4FMtnZ8ChSn2ebrEJ8AAAAA8BnkF5Cv8ALFlNDqdxvKMAAAAbQZpEPCGTKYQ3//6nhAA19qDbxPJvFLkOoRJAAAAADwGeY2pCvwAsTbdKNIeKvwAAAB1BmmZJ4Q8mUwU8N//+p4QAId8dPd5uvvrZihH7cwAAABABnoVqQr8AG6I7c60ML1hBAAAAGUGah0nhDyZTAhv//qeEABWvdT9RxoSHTcEAAAAtQZqrSeEPJlMCGf/+nhAANzYDE2qN9/ZLRl3OBTX1BvwKVLR+BTOwNTmehIyAAAAAFUGeyUURPC//AAhs9bEFEr507WWBIgAAABABnuh0Qr8AC6WjvK2UPZBBAAAAEAGe6mpCvwAHxZg8lzPlIYAAAAAaQZrsSahBaJlMCGf//p4QACWnCOXfi76U30AAAAATQZsOSeEKUmUwURLDP/6eEAAEfQAAAA8Bny1qQr8AB5rAlyv8XcEAAAAYQZsvSeEOiZTAhn/+nhAAJN85s63QMkg1AAAAGEGbUEnhDyZTAhn//p4QACPfEPOt0DJIVAAAABhBm3FJ4Q8mUwIb//6nhAAI98dMf4fVuB8AAAAYQZuSSeEPJlMCG//+p4QACLfRzQVrMpv3AAAAGUGbtEnhDyZTBRE8N//+p4QABYcVqmGNWJUAAAAPAZ/TakK/AAbqxYF1/jQgAAAAEkGb1knhDyZTBTw3//6nhAABJwAAABABn/VqQr8ABtdRPIjr+G9AAAAAEkGb+EnhDyZTBTw3//6nhAABJwAAABABnhdqQr8ABtdRPIjr+G9BAAAAEkGaGknhDyZTBTw3//6nhAABJwAAABABnjlqQr8ABtdRPIjr+G9BAAAAEkGaPEnhDyZTBTw3//6nhAABJwAAABABnltqQr8ABtdRPIjr+G9BAAAAEkGaXknhDyZTBTw3//6nhAABJwAAABABnn1qQr8ABtdRPIjr+G9AAAAAEkGaYEnhDyZTBTw3//6nhAABJwAAABABnp9qQr8ABtdRPIjr+G9BAAAAEkGagknhDyZTBTw3//6nhAABJwAAABABnqFqQr8ABtdRPIjr+G9BAAAAEkGapEnhDyZTBTw3//6nhAABJwAAABABnsNqQr8ABtdRPIjr+G9BAAAAEkGaxknhDyZTBTw3//6nhAABJwAAABABnuVqQr8ABtdRPIjr+G9BAAAAEkGa6EnhDyZTBTw3//6nhAABJwAAABABnwdqQr8ABtdRPIjr+G9AAAAAEkGbCknhDyZTBTw3//6nhAABJwAAABABnylqQr8ABtdRPIjr+G9BAAAAEkGbLEnhDyZTBTw3//6nhAABJwAAABABn0tqQr8ABtdRPIjr+G9AAAAAEkGbTknhDyZTBTw3//6nhAABJwAAABABn21qQr8ABtdRPIjr+G9BAAAAEkGbcEnhDyZTBTw3//6nhAABJwAAABABn49qQr8ABtdRPIjr+G9AAAAAEkGbkknhDyZTBTw3//6nhAABJwAAABABn7FqQr8ABtdRPIjr+G9BAAAAEkGbtEnhDyZTBTw3//6nhAABJwAAABABn9NqQr8ABtdRPIjr+G9AAAAAEkGb1knhDyZTBTw3//6nhAABJwAAABABn/VqQr8ABtdRPIjr+G9AAAAAEkGb+EnhDyZTBTw3//6nhAABJwAAABABnhdqQr8ABtdRPIjr+G9BAAAAEkGaGknhDyZTBTw3//6nhAABJwAAABABnjlqQr8ABtdRPIjr+G9BAAAAEkGaPEnhDyZTBTw3//6nhAABJwAAABABnltqQr8ABtdRPIjr+G9BAAAAEkGaXknhDyZTBTw3//6nhAABJwAAABABnn1qQr8ABtdRPIjr+G9AAAAAEkGaYEnhDyZTBTw3//6nhAABJwAAABABnp9qQr8ABtdRPIjr+G9BAAAAEkGagknhDyZTBTw3//6nhAABJwAAABABnqFqQr8ABtdRPIjr+G9BAAAAEkGapEnhDyZTBTw3//6nhAABJwAAABABnsNqQr8ABtdRPIjr+G9BAAAAEkGaxknhDyZTBTw3//6nhAABJwAAABABnuVqQr8ABtdRPIjr+G9BAAAAEkGa6EnhDyZTBTw3//6nhAABJwAAABABnwdqQr8ABtdRPIjr+G9AAAAAEkGbCknhDyZTBTw3//6nhAABJwAAABABnylqQr8ABtdRPIjr+G9BAAAAEkGbLEnhDyZTBTw3//6nhAABJwAAABABn0tqQr8ABtdRPIjr+G9AAAAAEkGbTknhDyZTBTw3//6nhAABJwAAABABn21qQr8ABtdRPIjr+G9BAAAAEkGbcEnhDyZTBTw3//6nhAABJwAAABABn49qQr8ABtdRPIjr+G9AAAAAEkGbkknhDyZTBTw3//6nhAABJwAAABABn7FqQr8ABtdRPIjr+G9BAAAAEkGbtEnhDyZTBTw3//6nhAABJwAAABABn9NqQr8ABtdRPIjr+G9AAAAAEkGb1knhDyZTBTw3//6nhAABJwAAABABn/VqQr8ABtdRPIjr+G9AAAAAEkGb+EnhDyZTBTw3//6nhAABJwAAABABnhdqQr8ABtdRPIjr+G9BAAAAEkGaGknhDyZTBTw3//6nhAABJwAAABABnjlqQr8ABtdRPIjr+G9BAAAAEkGaPEnhDyZTBTw3//6nhAABJwAAABABnltqQr8ABtdRPIjr+G9BAAAAEkGaXknhDyZTBTw3//6nhAABJwAAABABnn1qQr8ABtdRPIjr+G9AAAAAEkGaYEnhDyZTBTw3//6nhAABJwAAABABnp9qQr8ABtdRPIjr+G9BAAAAEkGagknhDyZTBTw3//6nhAABJwAAABABnqFqQr8ABtdRPIjr+G9BAAAAEkGapEnhDyZTBTw3//6nhAABJwAAABABnsNqQr8ABtdRPIjr+G9BAAAAEkGaxknhDyZTBTw3//6nhAABJwAAABABnuVqQr8ABtdRPIjr+G9BAAAAEkGa6EnhDyZTBTw3//6nhAABJwAAABABnwdqQr8ABtdRPIjr+G9AAAAAEkGbCknhDyZTBTw3//6nhAABJwAAABABnylqQr8ABtdRPIjr+G9BAAAAEkGbLEnhDyZTBTw3//6nhAABJwAAABABn0tqQr8ABtdRPIjr+G9AAAAAEkGbTknhDyZTBTw3//6nhAABJwAAABABn21qQr8ABtdRPIjr+G9BAAAAEkGbcEnhDyZTBTw3//6nhAABJwAAABABn49qQr8ABtdRPIjr+G9AAAAAEkGbkknhDyZTBTw3//6nhAABJwAAABABn7FqQr8ABtdRPIjr+G9BAAAAEkGbtEnhDyZTBTw3//6nhAABJwAAABABn9NqQr8ABtdRPIjr+G9AAAAAEkGb1knhDyZTBTw3//6nhAABJwAAABABn/VqQr8ABtdRPIjr+G9AAAAAEkGb+EnhDyZTBTw3//6nhAABJwAAABABnhdqQr8ABtdRPIjr+G9BAAAAEkGaGknhDyZTBTw3//6nhAABJwAAABABnjlqQr8ABtdRPIjr+G9BAAAAEkGaPEnhDyZTBTw3//6nhAABJwAAABABnltqQr8ABtdRPIjr+G9BAAAAEkGaXknhDyZTBTw3//6nhAABJwAAABABnn1qQr8ABtdRPIjr+G9AAAAAEkGaYEnhDyZTBTw3//6nhAABJwAAABABnp9qQr8ABtdRPIjr+G9BAAAAEkGagknhDyZTBTw3//6nhAABJwAAABABnqFqQr8ABtdRPIjr+G9BAAAAEkGapEnhDyZTBTw3//6nhAABJwAAABABnsNqQr8ABtdRPIjr+G9BAAAAEkGaxknhDyZTBTw3//6nhAABJwAAABABnuVqQr8ABtdRPIjr+G9BAAAAEkGa6EnhDyZTBTw3//6nhAABJwAAABABnwdqQr8ABtdRPIjr+G9AAAAAEkGbCknhDyZTBTw3//6nhAABJwAAABABnylqQr8ABtdRPIjr+G9BAAAAEkGbLEnhDyZTBTw3//6nhAABJwAAABABn0tqQr8ABtdRPIjr+G9AAAAAEkGbTknhDyZTBTw3//6nhAABJwAAABABn21qQr8ABtdRPIjr+G9BAAAAEkGbcEnhDyZTBTw3//6nhAABJwAAABABn49qQr8ABtdRPIjr+G9AAAAAEkGbkknhDyZTBTw3//6nhAABJwAAABABn7FqQr8ABtdRPIjr+G9BAAAAEkGbtEnhDyZTBTw3//6nhAABJwAAABABn9NqQr8ABtdRPIjr+G9AAAAAEkGb1knhDyZTBTw3//6nhAABJwAAABABn/VqQr8ABtdRPIjr+G9AAAAAEkGb+EnhDyZTBTw3//6nhAABJwAAABABnhdqQr8ABtdRPIjr+G9BAAAAEkGaGknhDyZTBTw3//6nhAABJwAAABABnjlqQr8ABtdRPIjr+G9BAAAAEkGaPEnhDyZTBTw3//6nhAABJwAAABABnltqQr8ABtdRPIjr+G9BAAAAEkGaXknhDyZTBTw3//6nhAABJwAAABABnn1qQr8ABtdRPIjr+G9AAAAAEkGaYEnhDyZTBTw3//6nhAABJwAAABABnp9qQr8ABtdRPIjr+G9BAAAAEkGagknhDyZTBTw3//6nhAABJwAAABABnqFqQr8ABtdRPIjr+G9BAAAAEkGapEnhDyZTBTw3//6nhAABJwAAABABnsNqQr8ABtdRPIjr+G9BAAAAEkGaxknhDyZTBTw3//6nhAABJwAAABABnuVqQr8ABtdRPIjr+G9BAAAAEkGa6EnhDyZTBTw3//6nhAABJwAAABABnwdqQr8ABtdRPIjr+G9AAAAAEkGbCknhDyZTBTw3//6nhAABJwAAABABnylqQr8ABtdRPIjr+G9BAAAAEkGbLEnhDyZTBTw3//6nhAABJwAAABABn0tqQr8ABtdRPIjr+G9AAAAAEkGbTknhDyZTBTw3//6nhAABJwAAABABn21qQr8ABtdRPIjr+G9BAAAAEkGbcEnhDyZTBTw3//6nhAABJwAAABABn49qQr8ABtdRPIjr+G9AAAAAEkGbkknhDyZTBTw3//6nhAABJwAAABABn7FqQr8ABtdRPIjr+G9BAAAAEkGbtEnhDyZTBTw3//6nhAABJwAAABABn9NqQr8ABtdRPIjr+G9AAAAAEkGb1knhDyZTBTw3//6nhAABJwAAABABn/VqQr8ABtdRPIjr+G9AAAAAEkGb+EnhDyZTBTw3//6nhAABJwAAABABnhdqQr8ABtdRPIjr+G9BAAAAEkGaGknhDyZTBTw3//6nhAABJwAAABABnjlqQr8ABtdRPIjr+G9BAAAAEkGaPEnhDyZTBTw3//6nhAABJwAAABABnltqQr8ABtdRPIjr+G9BAAAAEkGaXknhDyZTBTw3//6nhAABJwAAABABnn1qQr8ABtdRPIjr+G9AAAAAEkGaYEnhDyZTBTw3//6nhAABJwAAABABnp9qQr8ABtdRPIjr+G9BAAAAEkGagknhDyZTBTw3//6nhAABJwAAABABnqFqQr8ABtdRPIjr+G9BAAAAEkGapEnhDyZTBTwz//6eEAAEfAAAABABnsNqQr8ABtdRPIjr+G9BAAAAEkGaxknhDyZTBTwz//6eEAAEfQAAABABnuVqQr8ABtdRPIjr+G9BAAAAEkGa6EnhDyZTBTwv//6MsAAEjQAAABABnwdqQr8ABtdRPIjr+G9AAAAAGkGbCUvhCEPJEYIKAfyAf2HgCFf//jhAABFwAAAMcG1vb3YAAABsbXZoZAAAAAAAAAAAAAAAAAAAA+gAAB+QAAEAAAEAAAAAAAAAAAAAAAABAAAAAAAAAAAAAAAAAAAAAQAAAAAAAAAAAAAAAAAAQAAAAAAAAAAAAAAAAAAAAAAAAAAAAAAAAAAAAAAAAAIAAAuadHJhawAAAFx0a2hkAAAAAwAAAAAAAAAAAAAAAQAAAAAAAB+QAAAAAAAAAAAAAAAAAAAAAAABAAAAAAAAAAAAAAAAAAAAAQAAAAAAAAAAAAAAAAAAQAAAAAEQAAABEAAAAAAAJGVkdHMAAAAcZWxzdAAAAAAAAAABAAAfkAAABAAAAQAAAAALEm1kaWEAAAAgbWRoZAAAAAAAAAAAAAAAAAAAMgAAAZQAVcQAAAAAAC1oZGxyAAAAAAAAAAB2aWRlAAAAAAAAAAAAAAAAVmlkZW9IYW5kbGVyAAAACr1taW5mAAAAFHZtaGQAAAABAAAAAAAAAAAAAAAkZGluZgAAABxkcmVmAAAAAAAAAAEAAAAMdXJsIAAAAAEAAAp9c3RibAAAAJVzdHNkAAAAAAAAAAEAAACFYXZjMQAAAAAAAAABAAAAAAAAAAAAAAAAAAAAAAEQARAASAAAAEgAAAAAAAAAAQAAAAAAAAAAAAAAAAAAAAAAAAAAAAAAAAAAAAAAAAAAABj//wAAAC9hdmNDAfQADf/hABdn9AANkZsoIhHQgAAAAwCAAAAZB4oUywEABWjr48RIAAAAGHN0dHMAAAAAAAAAAQAAAMoAAAIAAAAAFHN0c3MAAAAAAAAAAQAAAAEAAAZIY3R0cwAAAAAAAADHAAAAAQAABAAAAAABAAAGAAAAAAEAAAIAAAAAAQAABgAAAAABAAACAAAAAAEAAAYAAAAAAQAAAgAAAAABAAAEAAAAAAEAAAoAAAAAAQAABAAAAAABAAAAAAAAAAEAAAIAAAAAAQAABAAAAAABAAAGAAAAAAEAAAIAAAAABAAABAAAAAABAAAGAAAAAAEAAAIAAAAAAQAABgAAAAABAAACAAAAAAEAAAYAAAAAAQAAAgAAAAABAAAGAAAAAAEAAAIAAAAAAQAABgAAAAABAAACAAAAAAEAAAYAAAAAAQAAAgAAAAABAAAGAAAAAAEAAAIAAAAAAQAABgAAAAABAAACAAAAAAEAAAYAAAAAAQAAAgAAAAABAAAGAAAAAAEAAAIAAAAAAQAABgAAAAABAAACAAAAAAEAAAYAAAAAAQAAAgAAAAABAAAGAAAAAAEAAAIAAAAAAQAABgAAAAABAAACAAAAAAEAAAYAAAAAAQAAAgAAAAABAAAGAAAAAAEAAAIAAAAAAQAABgAAAAABAAACAAAAAAEAAAYAAAAAAQAAAgAAAAABAAAGAAAAAAEAAAIAAAAAAQAABgAAAAABAAACAAAAAAEAAAYAAAAAAQAAAgAAAAABAAAGAAAAAAEAAAIAAAAAAQAABgAAAAABAAACAAAAAAEAAAYAAAAAAQAAAgAAAAABAAAGAAAAAAEAAAIAAAAAAQAABgAAAAABAAACAAAAAAEAAAYAAAAAAQAAAgAAAAABAAAGAAAAAAEAAAIAAAAAAQAABgAAAAABAAACAAAAAAEAAAYAAAAAAQAAAgAAAAABAAAGAAAAAAEAAAIAAAAAAQAABgAAAAABAAACAAAAAAEAAAYAAAAAAQAAAgAAAAABAAAGAAAAAAEAAAIAAAAAAQAABgAAAAABAAACAAAAAAEAAAYAAAAAAQAAAgAAAAABAAAGAAAAAAEAAAIAAAAAAQAABgAAAAABAAACAAAAAAEAAAYAAAAAAQAAAgAAAAABAAAGAAAAAAEAAAIAAAAAAQAABgAAAAABAAACAAAAAAEAAAYAAAAAAQAAAgAAAAABAAAGAAAAAAEAAAIAAAAAAQAABgAAAAABAAACAAAAAAEAAAYAAAAAAQAAAgAAAAABAAAGAAAAAAEAAAIAAAAAAQAABgAAAAABAAACAAAAAAEAAAYAAAAAAQAAAgAAAAABAAAGAAAAAAEAAAIAAAAAAQAABgAAAAABAAACAAAAAAEAAAYAAAAAAQAAAgAAAAABAAAGAAAAAAEAAAIAAAAAAQAABgAAAAABAAACAAAAAAEAAAYAAAAAAQAAAgAAAAABAAAGAAAAAAEAAAIAAAAAAQAABgAAAAABAAACAAAAAAEAAAYAAAAAAQAAAgAAAAABAAAGAAAAAAEAAAIAAAAAAQAABgAAAAABAAACAAAAAAEAAAYAAAAAAQAAAgAAAAABAAAGAAAAAAEAAAIAAAAAAQAABgAAAAABAAACAAAAAAEAAAYAAAAAAQAAAgAAAAABAAAGAAAAAAEAAAIAAAAAAQAABgAAAAABAAACAAAAAAEAAAYAAAAAAQAAAgAAAAABAAAGAAAAAAEAAAIAAAAAAQAABgAAAAABAAACAAAAAAEAAAYAAAAAAQAAAgAAAAABAAAGAAAAAAEAAAIAAAAAAQAABgAAAAABAAACAAAAAAEAAAYAAAAAAQAAAgAAAAABAAAGAAAAAAEAAAIAAAAAAQAABgAAAAABAAACAAAAAAEAAAYAAAAAAQAAAgAAAAABAAAGAAAAAAEAAAIAAAAAAQAABgAAAAABAAACAAAAAAEAAAYAAAAAAQAAAgAAAAABAAAGAAAAAAEAAAIAAAAAAQAABgAAAAABAAACAAAAAAEAAAYAAAAAAQAAAgAAAAABAAAGAAAAAAEAAAIAAAAAAQAABgAAAAABAAACAAAAAAEAAAYAAAAAAQAAAgAAAAABAAAGAAAAAAEAAAIAAAAAAQAABgAAAAABAAACAAAAAAEAAAYAAAAAAQAAAgAAAAABAAAGAAAAAAEAAAIAAAAAAQAABgAAAAABAAACAAAAAAEAAAYAAAAAAQAAAgAAAAABAAAGAAAAAAEAAAIAAAAAAQAABAAAAAAcc3RzYwAAAAAAAAABAAAAAQAAAMoAAAABAAADPHN0c3oAAAAAAAAAAAAAAMoAAAXmAAAAJAAAABMAAAAfAAAAEwAAACEAAAAUAAAAHQAAADEAAAAZAAAAFAAAABQAAAAeAAAAFwAAABMAAAAcAAAAHAAAABwAAAAcAAAAHQAAABMAAAAWAAAAFAAAABYAAAAUAAAAFgAAABQAAAAWAAAAFAAAABYAAAAUAAAAFgAAABQAAAAWAAAAFAAAABYAAAAUAAAAFgAAABQAAAAWAAAAFAAAABYAAAAUAAAAFgAAABQAAAAWAAAAFAAAABYAAAAUAAAAFgAAABQAAAAWAAAAFAAAABYAAAAUAAAAFgAAABQAAAAWAAAAFAAAABYAAAAUAAAAFgAAABQAAAAWAAAAFAAAABYAAAAUAAAAFgAAABQAAAAWAAAAFAAAABYAAAAUAAAAFgAAABQAAAAWAAAAFAAAABYAAAAUAAAAFgAAABQAAAAWAAAAFAAAABYAAAAUAAAAFgAAABQAAAAWAAAAFAAAABYAAAAUAAAAFgAAABQAAAAWAAAAFAAAABYAAAAUAAAAFgAAABQAAAAWAAAAFAAAABYAAAAUAAAAFgAAABQAAAAWAAAAFAAAABYAAAAUAAAAFgAAABQAAAAWAAAAFAAAABYAAAAUAAAAFgAAABQAAAAWAAAAFAAAABYAAAAUAAAAFgAAABQAAAAWAAAAFAAAABYAAAAUAAAAFgAAABQAAAAWAAAAFAAAABYAAAAUAAAAFgAAABQAAAAWAAAAFAAAABYAAAAUAAAAFgAAABQAAAAWAAAAFAAAABYAAAAUAAAAFgAAABQAAAAWAAAAFAAAABYAAAAUAAAAFgAAABQAAAAWAAAAFAAAABYAAAAUAAAAFgAAABQAAAAWAAAAFAAAABYAAAAUAAAAFgAAABQAAAAWAAAAFAAAABYAAAAUAAAAFgAAABQAAAAWAAAAFAAAABYAAAAUAAAAFgAAABQAAAAWAAAAFAAAABYAAAAUAAAAFgAAABQAAAAWAAAAFAAAABYAAAAUAAAAFgAAABQAAAAWAAAAFAAAABYAAAAUAAAAFgAAABQAAAAWAAAAFAAAABYAAAAUAAAAFgAAABQAAAAeAAAAFHN0Y28AAAAAAAAAAQAAADAAAABidWR0YQAAAFptZXRhAAAAAAAAACFoZGxyAAAAAAAAAABtZGlyYXBwbAAAAAAAAAAAAAAAAC1pbHN0AAAAJal0b28AAAAdZGF0YQAAAAEAAAAATGF2ZjU4LjIwLjEwMA==\" type=\"video/mp4\" />\n",
       "             </video>"
      ],
      "text/plain": [
       "<IPython.core.display.HTML object>"
      ]
     },
     "execution_count": 298,
     "metadata": {},
     "output_type": "execute_result"
    }
   ],
   "source": [
    "HTML(display_videos('cnn_test10.mp4'))"
   ]
  },
  {
   "cell_type": "code",
   "execution_count": 299,
   "metadata": {},
   "outputs": [
    {
     "data": {
      "text/html": [
       "<video alt=\"test\" controls>\n",
       "                <source src=\"data:video/mp4;base64,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\" type=\"video/mp4\" />\n",
       "             </video>"
      ],
      "text/plain": [
       "<IPython.core.display.HTML object>"
      ]
     },
     "execution_count": 299,
     "metadata": {},
     "output_type": "execute_result"
    }
   ],
   "source": [
    "HTML(display_videos('fc_test10.mp4'))"
   ]
  },
  {
   "cell_type": "markdown",
   "metadata": {},
   "source": [
    "We can clearly see that the performance with CNN algorithm is better."
   ]
  },
  {
   "cell_type": "markdown",
   "metadata": {},
   "source": [
    "***\n",
    "\n",
    "The algorithm tends to not explore the map which can be an issue. We propose two ideas in order to encourage exploration:\n",
    "1. Incorporating a decreasing $\\epsilon$-greedy exploration. You can use the method ```set_epsilon```\n",
    "2. Append via the environment a new state that describes if a cell has been visited or not\n",
    "\n",
    "***\n",
    "__Question 10__ Design a new ```train_explore``` function and environment class ```EnvironmentExploring``` to tackle the issue of exploration.\n",
    "\n"
   ]
  },
  {
   "cell_type": "code",
   "execution_count": 301,
   "metadata": {},
   "outputs": [],
   "source": [
    "def train_explore(agent,env,epoch,prefix=''):\n",
    "    # Number of won games\n",
    "    score = 0\n",
    "    loss = 0\n",
    "    \n",
    "    agent.epsilon = 1.\n",
    "\n",
    "    for e in range(epoch):\n",
    "        # At each epoch, we restart to a fresh game and get the initial state\n",
    "        state = env.reset()\n",
    "        # This assumes that the games will terminate\n",
    "        game_over = False\n",
    "\n",
    "        win = 0\n",
    "        lose = 0\n",
    "        \n",
    "        agent.epsilon = agent.epsilon*0.95\n",
    "        while not game_over:\n",
    "            # The agent performs an action\n",
    "            action = agent.act(state)\n",
    "\n",
    "            # Apply an action to the environment, get the next state, the reward\n",
    "            # and if the games end\n",
    "            prev_state = state\n",
    "            state, reward, game_over = env.act(action, train =True)\n",
    "\n",
    "            # Update the counters\n",
    "            if reward > 0:\n",
    "                win = win + reward\n",
    "            if reward < 0:\n",
    "                lose = lose -reward\n",
    "\n",
    "            # Apply the reinforcement strategy\n",
    "            loss = agent.reinforce(prev_state, state,  action, reward, game_over)\n",
    "\n",
    "        # Save as a mp4\n",
    "        if e % 10 == 0:\n",
    "            env.draw(prefix+str(e))\n",
    "\n",
    "        # Update stats\n",
    "        score += win-lose\n",
    "\n",
    "        print(\"Epoch {:03d}/{:03d} | Loss {:.4f} | Win/lose count {}/{} ({})\"\n",
    "              .format(e, epoch, loss, win, lose, win-lose))\n",
    "        agent.save(name_weights=prefix+'model.h5',name_model=prefix+'model.json')\n",
    "   \n",
    "    \n",
    "        \n",
    "class EnvironmentExploring(object):\n",
    "    def __init__(self, grid_size=10, max_time=500, temperature=0.1):\n",
    "        grid_size = grid_size+4\n",
    "        self.grid_size = grid_size\n",
    "        self.max_time = max_time\n",
    "        self.temperature = temperature\n",
    "\n",
    "        #board on which one plays\n",
    "        self.board = np.zeros((grid_size,grid_size))\n",
    "        self.position = np.zeros((grid_size,grid_size))\n",
    "        self.malus_position = np.zeros((grid_size,grid_size))\n",
    "        \n",
    "        # coordinate of the cat\n",
    "        self.x = 0\n",
    "        self.y = 1\n",
    "\n",
    "        # self time\n",
    "        self.t = 0\n",
    "\n",
    "        self.scale=16\n",
    "\n",
    "        self.to_draw = np.zeros((max_time+2, grid_size*self.scale, grid_size*self.scale, 3))\n",
    "        \n",
    "    def draw(self,e):\n",
    "        skvideo.io.vwrite(str(e) + '.mp4', self.to_draw)\n",
    "\n",
    "    def get_frame(self,t):\n",
    "        b = np.zeros((self.grid_size,self.grid_size,3))+128\n",
    "        b[self.board>0,0] = 256\n",
    "        b[self.board < 0, 2] = 256\n",
    "        b[self.x,self.y,:]=256\n",
    "        b[-2:,:,:]=0\n",
    "        b[:,-2:,:]=0\n",
    "        b[:2,:,:]=0\n",
    "        b[:,:2,:]=0\n",
    "        \n",
    "        b =  cv2.resize(b, None, fx=self.scale, fy=self.scale, interpolation=cv2.INTER_NEAREST)\n",
    "\n",
    "        self.to_draw[t,:,:,:]=b\n",
    "        \n",
    "    def act(self, action, train= False):\n",
    "        \"\"\"This function returns the new state, reward and decides if the\n",
    "        game ends.\"\"\"\n",
    "\n",
    "        self.get_frame(int(self.t))\n",
    "\n",
    "        self.position = np.zeros((self.grid_size, self.grid_size))\n",
    "\n",
    "        self.position[0:2,:]= -1\n",
    "        self.position[:,0:2] = -1\n",
    "        self.position[-2:, :] = -1\n",
    "        self.position[:, :-2] = -1\n",
    "\n",
    "        self.position[self.x, self.y] = 1\n",
    "        if action == 0:\n",
    "            if self.x == self.grid_size-3:\n",
    "                self.x = self.x-1\n",
    "            else:\n",
    "                self.x = self.x + 1\n",
    "        elif action == 1:\n",
    "            if self.x == 2:\n",
    "                self.x = self.x+1\n",
    "            else:\n",
    "                self.x = self.x-1\n",
    "        elif action == 2:\n",
    "            if self.y == self.grid_size - 3:\n",
    "                self.y = self.y - 1\n",
    "            else:\n",
    "                self.y = self.y + 1\n",
    "        elif action == 3:\n",
    "            if self.y == 2:\n",
    "                self.y = self.y + 1\n",
    "            else:\n",
    "                self.y = self.y - 1\n",
    "        else:\n",
    "            RuntimeError('Error: action not recognized')\n",
    "\n",
    "        self.t = self.t + 1\n",
    "        \n",
    "        reward = 0\n",
    "        if train:\n",
    "            reward = -self.malus_position[self.x, self.y]\n",
    "            self.malus_position[self.x, self.y] = 0.1\n",
    "        reward = reward + self.board[self.x, self.y]\n",
    "        \n",
    "        self.board[self.x, self.y] = 0\n",
    "        game_over = self.t > self.max_time\n",
    "        state = np.concatenate((self.malus_position.reshape(self.grid_size, self.grid_size,1),\n",
    "                        self.board.reshape(self.grid_size, self.grid_size,1),\n",
    "                        self.position.reshape(self.grid_size, self.grid_size,1)),axis=2)\n",
    "        state = state[self.x-2:self.x+3,self.y-2:self.y+3,:]\n",
    "\n",
    "        return state, reward, game_over\n",
    "\n",
    "    def reset(self):\n",
    "        \"\"\"This function resets the game and returns the initial state\"\"\"\n",
    "\n",
    "        self.x = np.random.randint(3, self.grid_size-3, size=1)[0]\n",
    "        self.y = np.random.randint(3, self.grid_size-3, size=1)[0]\n",
    "\n",
    "\n",
    "        bonus = 0.5*np.random.binomial(1,self.temperature,size=self.grid_size**2)\n",
    "        bonus = bonus.reshape(self.grid_size,self.grid_size)\n",
    "\n",
    "        malus = -1.0*np.random.binomial(1,self.temperature,size=self.grid_size**2)\n",
    "        malus = malus.reshape(self.grid_size, self.grid_size)\n",
    "\n",
    "        self.to_draw = np.zeros((self.max_time+2, self.grid_size*self.scale, self.grid_size*self.scale, 3))\n",
    "\n",
    "\n",
    "        malus[bonus>0]=0\n",
    "\n",
    "        self.board = bonus + malus\n",
    "\n",
    "        self.position = np.zeros((self.grid_size, self.grid_size))\n",
    "        self.position[0:2,:]= -1\n",
    "        self.position[:,0:2] = -1\n",
    "        self.position[-2:, :] = -1\n",
    "        self.position[-2:, :] = -1\n",
    "        self.board[self.x,self.y] = 0\n",
    "        self.t = 0\n",
    "        \n",
    "        self.malus_position = np.zeros((self.grid_size,self.grid_size))\n",
    "\n",
    "        state = np.concatenate((self.malus_position.reshape(self.grid_size, self.grid_size,1),\n",
    "                               self.board.reshape(self.grid_size, self.grid_size,1),\n",
    "                        self.position.reshape(self.grid_size, self.grid_size,1)),axis=2)\n",
    "\n",
    "        state = state[self.x - 2:self.x + 3, self.y - 2:self.y + 3, :]\n",
    "        return state"
   ]
  },
  {
   "cell_type": "code",
   "execution_count": 302,
   "metadata": {
    "scrolled": true
   },
   "outputs": [
    {
     "name": "stdout",
     "output_type": "stream",
     "text": [
      "Epoch 000/020 | Loss 0.0152 | Win/lose count 9.0/30.900000000000116 (-21.900000000000116)\n",
      "Epoch 001/020 | Loss 0.0128 | Win/lose count 8.0/29.300000000000068 (-21.300000000000068)\n",
      "Epoch 002/020 | Loss 0.0361 | Win/lose count 13.5/22.60000000000006 (-9.100000000000058)\n",
      "Epoch 003/020 | Loss 0.0410 | Win/lose count 9.5/26.800000000000043 (-17.300000000000043)\n",
      "Epoch 004/020 | Loss 0.0147 | Win/lose count 10.5/22.300000000000054 (-11.800000000000054)\n",
      "Epoch 005/020 | Loss 0.0112 | Win/lose count 11.5/23.40000000000007 (-11.90000000000007)\n",
      "Epoch 006/020 | Loss 0.0186 | Win/lose count 9.5/25.80000000000005 (-16.30000000000005)\n",
      "Epoch 007/020 | Loss 0.0204 | Win/lose count 10.5/23.700000000000045 (-13.200000000000045)\n",
      "Epoch 008/020 | Loss 0.0212 | Win/lose count 11.5/26.200000000000067 (-14.700000000000067)\n",
      "Epoch 009/020 | Loss 0.0263 | Win/lose count 16.5/24.90000000000005 (-8.400000000000048)\n",
      "Epoch 010/020 | Loss 0.0153 | Win/lose count 9.5/21.500000000000046 (-12.000000000000046)\n",
      "Epoch 011/020 | Loss 0.0186 | Win/lose count 20.0/19.400000000000027 (0.599999999999973)\n",
      "Epoch 012/020 | Loss 0.0208 | Win/lose count 20.5/20.000000000000007 (0.4999999999999929)\n",
      "Epoch 013/020 | Loss 0.0210 | Win/lose count 19.5/20.00000000000001 (-0.5000000000000107)\n",
      "Epoch 014/020 | Loss 0.0115 | Win/lose count 17.0/16.899999999999984 (0.10000000000001563)\n",
      "Epoch 015/020 | Loss 0.0142 | Win/lose count 24.0/14.199999999999976 (9.800000000000024)\n",
      "Epoch 016/020 | Loss 0.0146 | Win/lose count 13.5/22.200000000000063 (-8.700000000000063)\n",
      "Epoch 017/020 | Loss 0.0183 | Win/lose count 23.0/16.59999999999998 (6.40000000000002)\n",
      "Epoch 018/020 | Loss 0.0205 | Win/lose count 16.0/16.999999999999982 (-0.9999999999999822)\n",
      "Epoch 019/020 | Loss 0.0747 | Win/lose count 21.0/21.100000000000016 (-0.10000000000001563)\n"
     ]
    },
    {
     "data": {
      "text/html": [
       "<video alt=\"test\" controls>\n",
       "                <source src=\"data:video/mp4;base64,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\" type=\"video/mp4\" />\n",
       "             </video>"
      ],
      "text/plain": [
       "<IPython.core.display.HTML object>"
      ]
     },
     "execution_count": 302,
     "metadata": {},
     "output_type": "execute_result"
    }
   ],
   "source": [
    "# Training\n",
    "env = EnvironmentExploring(grid_size=size, max_time=T, temperature=0.3)\n",
    "agent = DQN_CNN(size, lr=.1, epsilon = 0.1, memory_size=2000, batch_size = 32,n_state=3)\n",
    "train_explore(agent, env, epochs_train, prefix='cnn_train_explore')\n",
    "HTML(display_videos('cnn_train_explore10.mp4'))"
   ]
  },
  {
   "cell_type": "code",
   "execution_count": 303,
   "metadata": {},
   "outputs": [
    {
     "name": "stdout",
     "output_type": "stream",
     "text": [
      "Win/lose count 5.5/1.0. Average score (4.5)\n",
      "Win/lose count 12.5/0. Average score (8.5)\n",
      "Win/lose count 9.5/0. Average score (8.833333333333334)\n",
      "Win/lose count 5.5/0. Average score (8.0)\n",
      "Win/lose count 8.0/1.0. Average score (7.8)\n",
      "Win/lose count 14.5/0. Average score (8.916666666666666)\n",
      "Win/lose count 4.0/0. Average score (8.214285714285714)\n",
      "Win/lose count 2.5/0. Average score (7.5)\n",
      "Win/lose count 1.0/0. Average score (6.777777777777778)\n",
      "Win/lose count 3.5/0. Average score (6.45)\n",
      "Win/lose count 4.5/0. Average score (6.2727272727272725)\n",
      "Win/lose count 22.5/0. Average score (7.625)\n",
      "Win/lose count 13.5/2.0. Average score (7.923076923076923)\n",
      "Win/lose count 0.5/0. Average score (7.392857142857143)\n",
      "Win/lose count 13.5/0. Average score (7.8)\n",
      "Win/lose count 8.0/0. Average score (7.8125)\n",
      "Win/lose count 6.5/0. Average score (7.735294117647059)\n",
      "Win/lose count 1.5/1.0. Average score (7.333333333333333)\n",
      "Win/lose count 8.0/0. Average score (7.368421052631579)\n",
      "Win/lose count 8.0/0. Average score (7.4)\n",
      "Final score: 7.4\n"
     ]
    },
    {
     "data": {
      "text/html": [
       "<video alt=\"test\" controls>\n",
       "                <source src=\"data:video/mp4;base64,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\" type=\"video/mp4\" />\n",
       "             </video>"
      ],
      "text/plain": [
       "<IPython.core.display.HTML object>"
      ]
     },
     "execution_count": 303,
     "metadata": {},
     "output_type": "execute_result"
    }
   ],
   "source": [
    "# Evaluation\n",
    "test(agent,env,epochs_test,prefix='cnn_test_explore')\n",
    "HTML(display_videos('cnn_test_explore10.mp4'))"
   ]
  },
  {
   "cell_type": "markdown",
   "metadata": {},
   "source": [
    "***\n",
    "***\n",
    "__BONUS question__ Use the expert DQN from the previous question to generate some winning games. Train a model that mimicks its behavior. Compare the performances."
   ]
  },
  {
   "cell_type": "markdown",
   "metadata": {},
   "source": []
  },
  {
   "cell_type": "markdown",
   "metadata": {},
   "source": [
    "***"
   ]
  },
  {
   "cell_type": "code",
   "execution_count": null,
   "metadata": {},
   "outputs": [],
   "source": []
  },
  {
   "cell_type": "code",
   "execution_count": null,
   "metadata": {},
   "outputs": [],
   "source": []
  },
  {
   "cell_type": "code",
   "execution_count": null,
   "metadata": {},
   "outputs": [],
   "source": []
  }
 ],
 "metadata": {
  "kernelspec": {
   "display_name": "Python 3",
   "language": "python",
   "name": "python3"
  },
  "language_info": {
   "codemirror_mode": {
    "name": "ipython",
    "version": 3
   },
   "file_extension": ".py",
   "mimetype": "text/x-python",
   "name": "python",
   "nbconvert_exporter": "python",
   "pygments_lexer": "ipython3",
   "version": "3.6.6"
  }
 },
 "nbformat": 4,
 "nbformat_minor": 2
}
